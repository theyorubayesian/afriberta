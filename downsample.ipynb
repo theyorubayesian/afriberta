{
 "cells": [
  {
   "cell_type": "code",
   "execution_count": 10,
   "metadata": {},
   "outputs": [],
   "source": [
    "import os\n",
    "import random\n",
    "from pathlib import Path"
   ]
  },
  {
   "cell_type": "code",
   "execution_count": 7,
   "metadata": {},
   "outputs": [],
   "source": [
    "train_hau  = \"data/train/hau/train.hausa\"\n",
    "train_swa = \"data/train/swa/train.swahili\"\n",
    "train_amh = \"data/train/amh/train.amharic\""
   ]
  },
  {
   "cell_type": "code",
   "execution_count": 9,
   "metadata": {},
   "outputs": [],
   "source": [
    "n_lines_hau = 1282997\n",
    "n_lines_swa = 1442912\n",
    "n_lines_amh = 525025"
   ]
  },
  {
   "cell_type": "code",
   "execution_count": 25,
   "metadata": {},
   "outputs": [],
   "source": [
    "random.seed(42)"
   ]
  },
  {
   "cell_type": "code",
   "execution_count": 23,
   "metadata": {},
   "outputs": [],
   "source": [
    "def downsample(input_file, lang, n_lines, n_lines_to_sample=n_lines_amh):\n",
    "    parent_dir = Path(input_file).parents[2]\n",
    "    output_dir = os.path.join(parent_dir, \"downsampled\", lang)\n",
    "    output_file = os.path.join(output_dir, Path(input_file).name)\n",
    "    os.makedirs(output_dir, exist_ok=True)\n",
    "\n",
    "    lines = sorted(random.sample(range(n_lines), n_lines_to_sample))\n",
    "\n",
    "    fp = open(input_file, \"r\")\n",
    "    with open(output_file, \"w\") as out:\n",
    "        j = 0\n",
    "        for i, line in enumerate(fp):\n",
    "            if (j < n_lines_to_sample) and (i == lines[j]):\n",
    "                out.write(line)\n",
    "                j += 1\n",
    "            elif j >= n_lines_to_sample:\n",
    "                break\n",
    "    \n",
    "    fp.close()"
   ]
  },
  {
   "cell_type": "code",
   "execution_count": 26,
   "metadata": {},
   "outputs": [],
   "source": [
    "downsample(train_hau, n_lines_hau)\n",
    "downsample(train_swa, n_lines_swa)"
   ]
  }
 ],
 "metadata": {
  "interpreter": {
   "hash": "dad1985211ecc5f32269c0a9d15524bd774f1056f0d86e3558c3f2a6780fb493"
  },
  "kernelspec": {
   "display_name": "Python 3.8.12 64-bit ('afriberta': conda)",
   "language": "python",
   "name": "python3"
  },
  "language_info": {
   "codemirror_mode": {
    "name": "ipython",
    "version": 3
   },
   "file_extension": ".py",
   "mimetype": "text/x-python",
   "name": "python",
   "nbconvert_exporter": "python",
   "pygments_lexer": "ipython3",
   "version": "3.8.12"
  },
  "orig_nbformat": 4
 },
 "nbformat": 4,
 "nbformat_minor": 2
}
